{
 "cells": [
  {
   "cell_type": "code",
   "execution_count": 1,
   "id": "93fe3550",
   "metadata": {},
   "outputs": [
    {
     "data": {
      "text/html": [
       "<div>\n",
       "<style scoped>\n",
       "    .dataframe tbody tr th:only-of-type {\n",
       "        vertical-align: middle;\n",
       "    }\n",
       "\n",
       "    .dataframe tbody tr th {\n",
       "        vertical-align: top;\n",
       "    }\n",
       "\n",
       "    .dataframe thead th {\n",
       "        text-align: right;\n",
       "    }\n",
       "</style>\n",
       "<table border=\"1\" class=\"dataframe\">\n",
       "  <thead>\n",
       "    <tr style=\"text-align: right;\">\n",
       "      <th></th>\n",
       "      <th>distance_from_home</th>\n",
       "      <th>distance_from_last_transaction</th>\n",
       "      <th>ratio_to_median_purchase_price</th>\n",
       "      <th>repeat_retailer</th>\n",
       "      <th>used_chip</th>\n",
       "      <th>used_pin_number</th>\n",
       "      <th>online_order</th>\n",
       "      <th>fraud</th>\n",
       "    </tr>\n",
       "  </thead>\n",
       "  <tbody>\n",
       "    <tr>\n",
       "      <th>0</th>\n",
       "      <td>57.877857</td>\n",
       "      <td>0.311140</td>\n",
       "      <td>1.945940</td>\n",
       "      <td>1.0</td>\n",
       "      <td>1.0</td>\n",
       "      <td>0.0</td>\n",
       "      <td>0.0</td>\n",
       "      <td>0.0</td>\n",
       "    </tr>\n",
       "    <tr>\n",
       "      <th>1</th>\n",
       "      <td>10.829943</td>\n",
       "      <td>0.175592</td>\n",
       "      <td>1.294219</td>\n",
       "      <td>1.0</td>\n",
       "      <td>0.0</td>\n",
       "      <td>0.0</td>\n",
       "      <td>0.0</td>\n",
       "      <td>0.0</td>\n",
       "    </tr>\n",
       "    <tr>\n",
       "      <th>2</th>\n",
       "      <td>5.091079</td>\n",
       "      <td>0.805153</td>\n",
       "      <td>0.427715</td>\n",
       "      <td>1.0</td>\n",
       "      <td>0.0</td>\n",
       "      <td>0.0</td>\n",
       "      <td>1.0</td>\n",
       "      <td>0.0</td>\n",
       "    </tr>\n",
       "    <tr>\n",
       "      <th>3</th>\n",
       "      <td>2.247564</td>\n",
       "      <td>5.600044</td>\n",
       "      <td>0.362663</td>\n",
       "      <td>1.0</td>\n",
       "      <td>1.0</td>\n",
       "      <td>0.0</td>\n",
       "      <td>1.0</td>\n",
       "      <td>0.0</td>\n",
       "    </tr>\n",
       "    <tr>\n",
       "      <th>4</th>\n",
       "      <td>44.190936</td>\n",
       "      <td>0.566486</td>\n",
       "      <td>2.222767</td>\n",
       "      <td>1.0</td>\n",
       "      <td>1.0</td>\n",
       "      <td>0.0</td>\n",
       "      <td>1.0</td>\n",
       "      <td>0.0</td>\n",
       "    </tr>\n",
       "  </tbody>\n",
       "</table>\n",
       "</div>"
      ],
      "text/plain": [
       "   distance_from_home  distance_from_last_transaction  \\\n",
       "0           57.877857                        0.311140   \n",
       "1           10.829943                        0.175592   \n",
       "2            5.091079                        0.805153   \n",
       "3            2.247564                        5.600044   \n",
       "4           44.190936                        0.566486   \n",
       "\n",
       "   ratio_to_median_purchase_price  repeat_retailer  used_chip  \\\n",
       "0                        1.945940              1.0        1.0   \n",
       "1                        1.294219              1.0        0.0   \n",
       "2                        0.427715              1.0        0.0   \n",
       "3                        0.362663              1.0        1.0   \n",
       "4                        2.222767              1.0        1.0   \n",
       "\n",
       "   used_pin_number  online_order  fraud  \n",
       "0              0.0           0.0    0.0  \n",
       "1              0.0           0.0    0.0  \n",
       "2              0.0           1.0    0.0  \n",
       "3              0.0           1.0    0.0  \n",
       "4              0.0           1.0    0.0  "
      ]
     },
     "execution_count": 1,
     "metadata": {},
     "output_type": "execute_result"
    }
   ],
   "source": [
    "import pandas as pd\n",
    "df=pd.read_csv(\"C:/Users/pc/Desktop/M2GDA/S1/Données_massives/PROJET/Credit_card_fraud.csv\")\n",
    "df.head(5)"
   ]
  },
  {
   "cell_type": "code",
   "execution_count": 2,
   "id": "6fbc6d23",
   "metadata": {},
   "outputs": [
    {
     "name": "stdout",
     "output_type": "stream",
     "text": [
      "C:\\Users\\pc\\Desktop\\M2GDA\\S1\\Données_massives\\PROJET\n"
     ]
    }
   ],
   "source": [
    "import os\n",
    "print(os.getcwd())"
   ]
  },
  {
   "cell_type": "code",
   "execution_count": 3,
   "id": "e900d28c",
   "metadata": {},
   "outputs": [
    {
     "data": {
      "text/html": [
       "<div>\n",
       "<style scoped>\n",
       "    .dataframe tbody tr th:only-of-type {\n",
       "        vertical-align: middle;\n",
       "    }\n",
       "\n",
       "    .dataframe tbody tr th {\n",
       "        vertical-align: top;\n",
       "    }\n",
       "\n",
       "    .dataframe thead th {\n",
       "        text-align: right;\n",
       "    }\n",
       "</style>\n",
       "<table border=\"1\" class=\"dataframe\">\n",
       "  <thead>\n",
       "    <tr style=\"text-align: right;\">\n",
       "      <th></th>\n",
       "      <th>distance_from_home</th>\n",
       "      <th>distance_from_last_transaction</th>\n",
       "      <th>ratio_to_median_purchase_price</th>\n",
       "      <th>repeat_retailer</th>\n",
       "      <th>used_chip</th>\n",
       "      <th>used_pin_number</th>\n",
       "      <th>online_order</th>\n",
       "      <th>fraud</th>\n",
       "    </tr>\n",
       "  </thead>\n",
       "  <tbody>\n",
       "    <tr>\n",
       "      <th>999995</th>\n",
       "      <td>2.207101</td>\n",
       "      <td>0.112651</td>\n",
       "      <td>1.626798</td>\n",
       "      <td>1.0</td>\n",
       "      <td>1.0</td>\n",
       "      <td>0.0</td>\n",
       "      <td>0.0</td>\n",
       "      <td>0.0</td>\n",
       "    </tr>\n",
       "    <tr>\n",
       "      <th>999996</th>\n",
       "      <td>19.872726</td>\n",
       "      <td>2.683904</td>\n",
       "      <td>2.778303</td>\n",
       "      <td>1.0</td>\n",
       "      <td>1.0</td>\n",
       "      <td>0.0</td>\n",
       "      <td>0.0</td>\n",
       "      <td>0.0</td>\n",
       "    </tr>\n",
       "    <tr>\n",
       "      <th>999997</th>\n",
       "      <td>2.914857</td>\n",
       "      <td>1.472687</td>\n",
       "      <td>0.218075</td>\n",
       "      <td>1.0</td>\n",
       "      <td>1.0</td>\n",
       "      <td>0.0</td>\n",
       "      <td>1.0</td>\n",
       "      <td>0.0</td>\n",
       "    </tr>\n",
       "    <tr>\n",
       "      <th>999998</th>\n",
       "      <td>4.258729</td>\n",
       "      <td>0.242023</td>\n",
       "      <td>0.475822</td>\n",
       "      <td>1.0</td>\n",
       "      <td>0.0</td>\n",
       "      <td>0.0</td>\n",
       "      <td>1.0</td>\n",
       "      <td>0.0</td>\n",
       "    </tr>\n",
       "    <tr>\n",
       "      <th>999999</th>\n",
       "      <td>58.108125</td>\n",
       "      <td>0.318110</td>\n",
       "      <td>0.386920</td>\n",
       "      <td>1.0</td>\n",
       "      <td>1.0</td>\n",
       "      <td>0.0</td>\n",
       "      <td>1.0</td>\n",
       "      <td>0.0</td>\n",
       "    </tr>\n",
       "  </tbody>\n",
       "</table>\n",
       "</div>"
      ],
      "text/plain": [
       "        distance_from_home  distance_from_last_transaction  \\\n",
       "999995            2.207101                        0.112651   \n",
       "999996           19.872726                        2.683904   \n",
       "999997            2.914857                        1.472687   \n",
       "999998            4.258729                        0.242023   \n",
       "999999           58.108125                        0.318110   \n",
       "\n",
       "        ratio_to_median_purchase_price  repeat_retailer  used_chip  \\\n",
       "999995                        1.626798              1.0        1.0   \n",
       "999996                        2.778303              1.0        1.0   \n",
       "999997                        0.218075              1.0        1.0   \n",
       "999998                        0.475822              1.0        0.0   \n",
       "999999                        0.386920              1.0        1.0   \n",
       "\n",
       "        used_pin_number  online_order  fraud  \n",
       "999995              0.0           0.0    0.0  \n",
       "999996              0.0           0.0    0.0  \n",
       "999997              0.0           1.0    0.0  \n",
       "999998              0.0           1.0    0.0  \n",
       "999999              0.0           1.0    0.0  "
      ]
     },
     "execution_count": 3,
     "metadata": {},
     "output_type": "execute_result"
    }
   ],
   "source": [
    "df.tail()"
   ]
  },
  {
   "cell_type": "markdown",
   "id": "7048e5ea",
   "metadata": {},
   "source": [
    "Nous avons pris la decision de réduire le nombre d'observations puisque la base de données avaient au départ un million d'observations que nous avons ramené à mille observations."
   ]
  },
  {
   "cell_type": "code",
   "execution_count": 4,
   "id": "e4992898",
   "metadata": {
    "scrolled": true
   },
   "outputs": [
    {
     "name": "stdout",
     "output_type": "stream",
     "text": [
      "     distance_from_home  distance_from_last_transaction  \\\n",
      "0             57.877857                        0.311140   \n",
      "1             10.829943                        0.175592   \n",
      "2              5.091079                        0.805153   \n",
      "3              2.247564                        5.600044   \n",
      "4             44.190936                        0.566486   \n",
      "..                  ...                             ...   \n",
      "995            9.873417                        1.022586   \n",
      "996          168.091704                        6.304360   \n",
      "997           44.047622                        0.510298   \n",
      "998            2.998418                        0.193681   \n",
      "999           38.133449                        0.167059   \n",
      "\n",
      "     ratio_to_median_purchase_price  repeat_retailer  used_chip  \\\n",
      "0                          1.945940              1.0        1.0   \n",
      "1                          1.294219              1.0        0.0   \n",
      "2                          0.427715              1.0        0.0   \n",
      "3                          0.362663              1.0        1.0   \n",
      "4                          2.222767              1.0        1.0   \n",
      "..                              ...              ...        ...   \n",
      "995                        0.346643              1.0        0.0   \n",
      "996                        0.416833              1.0        1.0   \n",
      "997                        0.624706              1.0        0.0   \n",
      "998                        0.743416              1.0        1.0   \n",
      "999                        3.965637              1.0        0.0   \n",
      "\n",
      "     used_pin_number  online_order  fraud  \n",
      "0                0.0           0.0    0.0  \n",
      "1                0.0           0.0    0.0  \n",
      "2                0.0           1.0    0.0  \n",
      "3                0.0           1.0    0.0  \n",
      "4                0.0           1.0    0.0  \n",
      "..               ...           ...    ...  \n",
      "995              0.0           0.0    0.0  \n",
      "996              0.0           0.0    0.0  \n",
      "997              0.0           1.0    0.0  \n",
      "998              0.0           1.0    0.0  \n",
      "999              0.0           1.0    0.0  \n",
      "\n",
      "[1000 rows x 8 columns]\n"
     ]
    },
    {
     "data": {
      "text/html": [
       "<div>\n",
       "<style scoped>\n",
       "    .dataframe tbody tr th:only-of-type {\n",
       "        vertical-align: middle;\n",
       "    }\n",
       "\n",
       "    .dataframe tbody tr th {\n",
       "        vertical-align: top;\n",
       "    }\n",
       "\n",
       "    .dataframe thead th {\n",
       "        text-align: right;\n",
       "    }\n",
       "</style>\n",
       "<table border=\"1\" class=\"dataframe\">\n",
       "  <thead>\n",
       "    <tr style=\"text-align: right;\">\n",
       "      <th></th>\n",
       "      <th>distance_from_home</th>\n",
       "      <th>distance_from_last_transaction</th>\n",
       "      <th>ratio_to_median_purchase_price</th>\n",
       "      <th>repeat_retailer</th>\n",
       "      <th>used_chip</th>\n",
       "      <th>used_pin_number</th>\n",
       "      <th>online_order</th>\n",
       "      <th>fraud</th>\n",
       "    </tr>\n",
       "  </thead>\n",
       "  <tbody>\n",
       "    <tr>\n",
       "      <th>995</th>\n",
       "      <td>9.873417</td>\n",
       "      <td>1.022586</td>\n",
       "      <td>0.346643</td>\n",
       "      <td>1.0</td>\n",
       "      <td>0.0</td>\n",
       "      <td>0.0</td>\n",
       "      <td>0.0</td>\n",
       "      <td>0.0</td>\n",
       "    </tr>\n",
       "    <tr>\n",
       "      <th>996</th>\n",
       "      <td>168.091704</td>\n",
       "      <td>6.304360</td>\n",
       "      <td>0.416833</td>\n",
       "      <td>1.0</td>\n",
       "      <td>1.0</td>\n",
       "      <td>0.0</td>\n",
       "      <td>0.0</td>\n",
       "      <td>0.0</td>\n",
       "    </tr>\n",
       "    <tr>\n",
       "      <th>997</th>\n",
       "      <td>44.047622</td>\n",
       "      <td>0.510298</td>\n",
       "      <td>0.624706</td>\n",
       "      <td>1.0</td>\n",
       "      <td>0.0</td>\n",
       "      <td>0.0</td>\n",
       "      <td>1.0</td>\n",
       "      <td>0.0</td>\n",
       "    </tr>\n",
       "    <tr>\n",
       "      <th>998</th>\n",
       "      <td>2.998418</td>\n",
       "      <td>0.193681</td>\n",
       "      <td>0.743416</td>\n",
       "      <td>1.0</td>\n",
       "      <td>1.0</td>\n",
       "      <td>0.0</td>\n",
       "      <td>1.0</td>\n",
       "      <td>0.0</td>\n",
       "    </tr>\n",
       "    <tr>\n",
       "      <th>999</th>\n",
       "      <td>38.133449</td>\n",
       "      <td>0.167059</td>\n",
       "      <td>3.965637</td>\n",
       "      <td>1.0</td>\n",
       "      <td>0.0</td>\n",
       "      <td>0.0</td>\n",
       "      <td>1.0</td>\n",
       "      <td>0.0</td>\n",
       "    </tr>\n",
       "  </tbody>\n",
       "</table>\n",
       "</div>"
      ],
      "text/plain": [
       "     distance_from_home  distance_from_last_transaction  \\\n",
       "995            9.873417                        1.022586   \n",
       "996          168.091704                        6.304360   \n",
       "997           44.047622                        0.510298   \n",
       "998            2.998418                        0.193681   \n",
       "999           38.133449                        0.167059   \n",
       "\n",
       "     ratio_to_median_purchase_price  repeat_retailer  used_chip  \\\n",
       "995                        0.346643              1.0        0.0   \n",
       "996                        0.416833              1.0        1.0   \n",
       "997                        0.624706              1.0        0.0   \n",
       "998                        0.743416              1.0        1.0   \n",
       "999                        3.965637              1.0        0.0   \n",
       "\n",
       "     used_pin_number  online_order  fraud  \n",
       "995              0.0           0.0    0.0  \n",
       "996              0.0           0.0    0.0  \n",
       "997              0.0           1.0    0.0  \n",
       "998              0.0           1.0    0.0  \n",
       "999              0.0           1.0    0.0  "
      ]
     },
     "execution_count": 4,
     "metadata": {},
     "output_type": "execute_result"
    }
   ],
   "source": [
    "df=df.iloc[:1000]\n",
    "print(df)\n",
    "df.tail()"
   ]
  },
  {
   "cell_type": "markdown",
   "id": "245f75bd",
   "metadata": {},
   "source": [
    "Analyse descriptives et graphiques"
   ]
  },
  {
   "cell_type": "code",
   "execution_count": 5,
   "id": "0d522e95",
   "metadata": {
    "scrolled": true
   },
   "outputs": [
    {
     "name": "stdout",
     "output_type": "stream",
     "text": [
      "Descriptive statistiques\n"
     ]
    },
    {
     "data": {
      "text/html": [
       "<div>\n",
       "<style scoped>\n",
       "    .dataframe tbody tr th:only-of-type {\n",
       "        vertical-align: middle;\n",
       "    }\n",
       "\n",
       "    .dataframe tbody tr th {\n",
       "        vertical-align: top;\n",
       "    }\n",
       "\n",
       "    .dataframe thead th {\n",
       "        text-align: right;\n",
       "    }\n",
       "</style>\n",
       "<table border=\"1\" class=\"dataframe\">\n",
       "  <thead>\n",
       "    <tr style=\"text-align: right;\">\n",
       "      <th></th>\n",
       "      <th>distance_from_home</th>\n",
       "      <th>distance_from_last_transaction</th>\n",
       "      <th>ratio_to_median_purchase_price</th>\n",
       "      <th>repeat_retailer</th>\n",
       "      <th>used_chip</th>\n",
       "      <th>used_pin_number</th>\n",
       "      <th>online_order</th>\n",
       "      <th>fraud</th>\n",
       "    </tr>\n",
       "  </thead>\n",
       "  <tbody>\n",
       "    <tr>\n",
       "      <th>count</th>\n",
       "      <td>1000.000000</td>\n",
       "      <td>1000.000000</td>\n",
       "      <td>1000.000000</td>\n",
       "      <td>1000.000000</td>\n",
       "      <td>1000.000000</td>\n",
       "      <td>1000.000000</td>\n",
       "      <td>1000.000000</td>\n",
       "      <td>1000.000000</td>\n",
       "    </tr>\n",
       "    <tr>\n",
       "      <th>mean</th>\n",
       "      <td>26.887864</td>\n",
       "      <td>5.418143</td>\n",
       "      <td>1.656683</td>\n",
       "      <td>0.893000</td>\n",
       "      <td>0.314000</td>\n",
       "      <td>0.117000</td>\n",
       "      <td>0.673000</td>\n",
       "      <td>0.079000</td>\n",
       "    </tr>\n",
       "    <tr>\n",
       "      <th>std</th>\n",
       "      <td>63.868699</td>\n",
       "      <td>35.597907</td>\n",
       "      <td>2.349131</td>\n",
       "      <td>0.309268</td>\n",
       "      <td>0.464349</td>\n",
       "      <td>0.321581</td>\n",
       "      <td>0.469352</td>\n",
       "      <td>0.269874</td>\n",
       "    </tr>\n",
       "    <tr>\n",
       "      <th>min</th>\n",
       "      <td>0.104184</td>\n",
       "      <td>0.001448</td>\n",
       "      <td>0.016933</td>\n",
       "      <td>0.000000</td>\n",
       "      <td>0.000000</td>\n",
       "      <td>0.000000</td>\n",
       "      <td>0.000000</td>\n",
       "      <td>0.000000</td>\n",
       "    </tr>\n",
       "    <tr>\n",
       "      <th>25%</th>\n",
       "      <td>4.006805</td>\n",
       "      <td>0.306441</td>\n",
       "      <td>0.468934</td>\n",
       "      <td>1.000000</td>\n",
       "      <td>0.000000</td>\n",
       "      <td>0.000000</td>\n",
       "      <td>0.000000</td>\n",
       "      <td>0.000000</td>\n",
       "    </tr>\n",
       "    <tr>\n",
       "      <th>50%</th>\n",
       "      <td>10.346908</td>\n",
       "      <td>0.955936</td>\n",
       "      <td>0.958947</td>\n",
       "      <td>1.000000</td>\n",
       "      <td>0.000000</td>\n",
       "      <td>0.000000</td>\n",
       "      <td>1.000000</td>\n",
       "      <td>0.000000</td>\n",
       "    </tr>\n",
       "    <tr>\n",
       "      <th>75%</th>\n",
       "      <td>25.467761</td>\n",
       "      <td>3.112754</td>\n",
       "      <td>1.922379</td>\n",
       "      <td>1.000000</td>\n",
       "      <td>1.000000</td>\n",
       "      <td>0.000000</td>\n",
       "      <td>1.000000</td>\n",
       "      <td>0.000000</td>\n",
       "    </tr>\n",
       "    <tr>\n",
       "      <th>max</th>\n",
       "      <td>965.910612</td>\n",
       "      <td>990.070315</td>\n",
       "      <td>36.074366</td>\n",
       "      <td>1.000000</td>\n",
       "      <td>1.000000</td>\n",
       "      <td>1.000000</td>\n",
       "      <td>1.000000</td>\n",
       "      <td>1.000000</td>\n",
       "    </tr>\n",
       "  </tbody>\n",
       "</table>\n",
       "</div>"
      ],
      "text/plain": [
       "       distance_from_home  distance_from_last_transaction  \\\n",
       "count         1000.000000                     1000.000000   \n",
       "mean            26.887864                        5.418143   \n",
       "std             63.868699                       35.597907   \n",
       "min              0.104184                        0.001448   \n",
       "25%              4.006805                        0.306441   \n",
       "50%             10.346908                        0.955936   \n",
       "75%             25.467761                        3.112754   \n",
       "max            965.910612                      990.070315   \n",
       "\n",
       "       ratio_to_median_purchase_price  repeat_retailer    used_chip  \\\n",
       "count                     1000.000000      1000.000000  1000.000000   \n",
       "mean                         1.656683         0.893000     0.314000   \n",
       "std                          2.349131         0.309268     0.464349   \n",
       "min                          0.016933         0.000000     0.000000   \n",
       "25%                          0.468934         1.000000     0.000000   \n",
       "50%                          0.958947         1.000000     0.000000   \n",
       "75%                          1.922379         1.000000     1.000000   \n",
       "max                         36.074366         1.000000     1.000000   \n",
       "\n",
       "       used_pin_number  online_order        fraud  \n",
       "count      1000.000000   1000.000000  1000.000000  \n",
       "mean          0.117000      0.673000     0.079000  \n",
       "std           0.321581      0.469352     0.269874  \n",
       "min           0.000000      0.000000     0.000000  \n",
       "25%           0.000000      0.000000     0.000000  \n",
       "50%           0.000000      1.000000     0.000000  \n",
       "75%           0.000000      1.000000     0.000000  \n",
       "max           1.000000      1.000000     1.000000  "
      ]
     },
     "execution_count": 5,
     "metadata": {},
     "output_type": "execute_result"
    }
   ],
   "source": [
    "print(\"Descriptive statistiques\")\n",
    "df.describe()"
   ]
  },
  {
   "cell_type": "markdown",
   "id": "71c39bf4",
   "metadata": {},
   "source": [
    "Construction du label et des features\n"
   ]
  },
  {
   "cell_type": "code",
   "execution_count": 6,
   "id": "770ca4e8",
   "metadata": {},
   "outputs": [],
   "source": [
    "X=df.drop([\"fraud\"], axis=1).values\n",
    "y=df['fraud'].values"
   ]
  },
  {
   "cell_type": "code",
   "execution_count": 7,
   "id": "8ea9558c",
   "metadata": {},
   "outputs": [
    {
     "data": {
      "image/png": "[encoded data removed]",
      "text/plain": [
       "<Figure size 432x288 with 1 Axes>"
      ]
     },
     "metadata": {
      "needs_background": "light"
     },
     "output_type": "display_data"
    }
   ],
   "source": [
    "import matplotlib.pyplot as plt\n",
    "import seaborn as sns\n",
    "plt.figure()\n",
    "sns.countplot(x = 'fraud',data = df )\n",
    "plt.show()\n"
   ]
  },
  {
   "cell_type": "markdown",
   "id": "6196d097",
   "metadata": {},
   "source": [
    "Data preprocessing afin de verifier s'il y'a des données manquantes"
   ]
  },
  {
   "cell_type": "code",
   "execution_count": 8,
   "id": "08540550",
   "metadata": {},
   "outputs": [
    {
     "name": "stdout",
     "output_type": "stream",
     "text": [
      "Le nombre de valeur manquant distance_from_home                0\n",
      "distance_from_last_transaction    0\n",
      "ratio_to_median_purchase_price    0\n",
      "repeat_retailer                   0\n",
      "used_chip                         0\n",
      "used_pin_number                   0\n",
      "online_order                      0\n",
      "fraud                             0\n",
      "dtype: int64\n"
     ]
    }
   ],
   "source": [
    "print('Le nombre de valeur manquant',df.isnull().sum())"
   ]
  },
  {
   "cell_type": "markdown",
   "id": "d20ddb82",
   "metadata": {},
   "source": [
    "Suite à notre data preprocessing, nous constatons qu'il n'ya pas de données manquantes ce qui est une bonne nouvelle pour notre analyse."
   ]
  },
  {
   "cell_type": "markdown",
   "id": "adc1bae9",
   "metadata": {},
   "source": [
    "Division de la base de données de départ en données d'apprentissages et test"
   ]
  },
  {
   "cell_type": "code",
   "execution_count": 9,
   "id": "f9af8997",
   "metadata": {},
   "outputs": [],
   "source": [
    "from sklearn.model_selection import train_test_split\n",
    "X_train, X_test, y_train, y_test = train_test_split(X, y, test_size=0.3, random_state=0)"
   ]
  },
  {
   "cell_type": "markdown",
   "id": "68596fed",
   "metadata": {},
   "source": [
    "Machine learning apprentissage supervisée\n"
   ]
  },
  {
   "cell_type": "markdown",
   "id": "ba1f8aaa",
   "metadata": {},
   "source": [
    "ARBRE DE DECISON"
   ]
  },
  {
   "cell_type": "code",
   "execution_count": 10,
   "id": "8ef5582e",
   "metadata": {},
   "outputs": [
    {
     "data": {
      "text/plain": [
       "DecisionTreeClassifier(criterion='entropy', random_state=0)"
      ]
     },
     "execution_count": 10,
     "metadata": {},
     "output_type": "execute_result"
    }
   ],
   "source": [
    "\n",
    "from sklearn.tree import DecisionTreeClassifier\n",
    "classifier = DecisionTreeClassifier(criterion = 'entropy', random_state = 0)\n",
    "classifier.fit(X_train, y_train)"
   ]
  },
  {
   "cell_type": "code",
   "execution_count": 11,
   "id": "645d2f97",
   "metadata": {},
   "outputs": [
    {
     "name": "stdout",
     "output_type": "stream",
     "text": [
      "[[279   1]\n",
      " [  1  19]]\n"
     ]
    }
   ],
   "source": [
    "from sklearn.metrics import confusion_matrix, accuracy_score\n",
    "y_pred=classifier.predict(X_test)\n",
    "cm=confusion_matrix(y_test,y_pred)\n",
    "print(cm)"
   ]
  },
  {
   "cell_type": "markdown",
   "id": "441396be",
   "metadata": {},
   "source": [
    "Interpretation de la matrice de confusion:\n",
    "Sur la matrice(1,1), l'algorithme prédit que sur 300 utilisations, l'alogorithme prédit 279 non fraudes.\n",
    "la matrice(2,1), l'algorithme prédit une fraude alors qu'il y'a pas de fraude\n",
    "la matrice(1,2), l'algorithme prédit non fraud alors qu'il y'a une fraude\n",
    "la matrice(2,2), l'algorithme prédit 19 fraudes sur 300 utilisations"
   ]
  },
  {
   "cell_type": "code",
   "execution_count": 12,
   "id": "8550ba5f",
   "metadata": {},
   "outputs": [
    {
     "data": {
      "text/plain": [
       "<function matplotlib.pyplot.show(close=None, block=None)>"
      ]
     },
     "execution_count": 12,
     "metadata": {},
     "output_type": "execute_result"
    },
    {
     "data": {
      "image/png": "[encoded data removed]",
      "text/plain": [
       "<Figure size 432x288 with 2 Axes>"
      ]
     },
     "metadata": {
      "needs_background": "light"
     },
     "output_type": "display_data"
    }
   ],
   "source": [
    "sns.heatmap(cm,annot=True)\n",
    "plt.show"
   ]
  },
  {
   "cell_type": "markdown",
   "id": "8e9b226b",
   "metadata": {},
   "source": [
    "Graphique de répartition des nombres d'utilisations des cartes de crédit "
   ]
  },
  {
   "cell_type": "code",
   "execution_count": 13,
   "id": "06c1bc34",
   "metadata": {},
   "outputs": [
    {
     "name": "stdout",
     "output_type": "stream",
     "text": [
      "Accuracy score for Decision Tree: 0.9933333333333333\n"
     ]
    }
   ],
   "source": [
    "acc1 = accuracy_score(y_test, y_pred)\n",
    "print(f\"Accuracy score for Decision Tree: {acc1}\")\n"
   ]
  },
  {
   "cell_type": "markdown",
   "id": "5e3068dc",
   "metadata": {},
   "source": [
    "Le score avec utilisations de l'arbre de decision est de 99,333%"
   ]
  },
  {
   "cell_type": "markdown",
   "id": "5482732e",
   "metadata": {},
   "source": [
    "RANDOM FOREST CLASSIFIER"
   ]
  },
  {
   "cell_type": "code",
   "execution_count": 14,
   "id": "42e6fd87",
   "metadata": {},
   "outputs": [
    {
     "data": {
      "text/plain": [
       "RandomForestClassifier(criterion='entropy', n_estimators=10, random_state=0)"
      ]
     },
     "execution_count": 14,
     "metadata": {},
     "output_type": "execute_result"
    }
   ],
   "source": [
    "from sklearn.ensemble import RandomForestClassifier\n",
    "classifier = RandomForestClassifier(n_estimators = 10, criterion = 'entropy', random_state = 0)\n",
    "classifier.fit(X_train, y_train)"
   ]
  },
  {
   "cell_type": "code",
   "execution_count": 15,
   "id": "6c310d2c",
   "metadata": {},
   "outputs": [
    {
     "name": "stdout",
     "output_type": "stream",
     "text": [
      "[[277   3]\n",
      " [  1  19]]\n"
     ]
    }
   ],
   "source": [
    "y_pred = classifier.predict(X_test)\n",
    "from sklearn.metrics import confusion_matrix, accuracy_score\n",
    "cm = confusion_matrix(y_test, y_pred)\n",
    "print(cm)"
   ]
  },
  {
   "cell_type": "markdown",
   "id": "7c4cfa1f",
   "metadata": {},
   "source": [
    "Interpretation de la matrice de confusion:\n",
    "Sur la matrice(1,1), l'algorithme prédit que sur 300 utilisations, l'alogorithme prédit 277 non fraudes.\n",
    "la matrice(2,1), l'algorithme prédit une fraude alors qu'il y'a pas de fraude\n",
    "la matrice(1,2), l'algorithme prédit non fraud alors qu'il y'a 3 une fraude\n",
    "la matrice(2,2), l'algorithme prédit 19 fraudes sur 300 utilisations"
   ]
  },
  {
   "cell_type": "code",
   "execution_count": 16,
   "id": "8cf81f30",
   "metadata": {},
   "outputs": [
    {
     "data": {
      "text/plain": [
       "<function matplotlib.pyplot.show(close=None, block=None)>"
      ]
     },
     "execution_count": 16,
     "metadata": {},
     "output_type": "execute_result"
    },
    {
     "data": {
      "image/png": "[encoded data removed]",
      "text/plain": [
       "<Figure size 432x288 with 2 Axes>"
      ]
     },
     "metadata": {
      "needs_background": "light"
     },
     "output_type": "display_data"
    }
   ],
   "source": [
    "sns.heatmap(cm,annot=True)\n",
    "plt.show"
   ]
  },
  {
   "cell_type": "code",
   "execution_count": 17,
   "id": "fbf370a3",
   "metadata": {},
   "outputs": [
    {
     "name": "stdout",
     "output_type": "stream",
     "text": [
      "Random Forest Classification accuracy: 0.9866666666666667\n"
     ]
    }
   ],
   "source": [
    "acc2 = accuracy_score(y_test, y_pred)\n",
    "print(f\"Random Forest Classification accuracy: {acc2}\")"
   ]
  },
  {
   "cell_type": "markdown",
   "id": "033c6226",
   "metadata": {},
   "source": [
    "Le credit scoring avec l'utilisation du random forest donne 98,677%, plus faible que l'arbre de decision"
   ]
  },
  {
   "cell_type": "markdown",
   "id": "a2a6711f",
   "metadata": {},
   "source": [
    "CROSS VALIDATION"
   ]
  },
  {
   "cell_type": "code",
   "execution_count": 18,
   "id": "c2df313a",
   "metadata": {},
   "outputs": [
    {
     "name": "stdout",
     "output_type": "stream",
     "text": [
      "Accuracy: 97.57 %\n",
      "Standard Deviation: 1.12 %\n"
     ]
    }
   ],
   "source": [
    "from sklearn.model_selection import cross_val_score\n",
    "acc3 = cross_val_score(estimator = classifier, X = X_train, y = y_train, cv = 10)\n",
    "print(\"Accuracy: {:.2f} %\".format(acc3.mean()*100))\n",
    "print(\"Standard Deviation: {:.2f} %\".format(acc3.std()*100))"
   ]
  },
  {
   "cell_type": "markdown",
   "id": "a482414e",
   "metadata": {},
   "source": [
    "LE credit scoring avec l'utilisation de la cross validation donne 97,57%, plus faible que l'arbre de decision et le random forest"
   ]
  },
  {
   "cell_type": "code",
   "execution_count": null,
   "id": "1058854a",
   "metadata": {},
   "outputs": [],
   "source": []
  }
 ],
 "metadata": {
  "kernelspec": {
   "display_name": "Python 3 (ipykernel)",
   "language": "python",
   "name": "python3"
  },
  "language_info": {
   "codemirror_mode": {
    "name": "ipython",
    "version": 3
   },
   "file_extension": ".py",
   "mimetype": "text/x-python",
   "name": "python",
   "nbconvert_exporter": "python",
   "pygments_lexer": "ipython3",
   "version": "3.9.12"
  }
 },
 "nbformat": 4,
 "nbformat_minor": 5
}
